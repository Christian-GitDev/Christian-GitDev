{
  "nbformat": 4,
  "nbformat_minor": 0,
  "metadata": {
    "colab": {
      "name": "Primeiros_Passos_Christian_Python.ipynb",
      "provenance": [],
      "collapsed_sections": [
        "wwAg5f0EhnsE",
        "77FuxEXnhnst",
        "veLa06i-QGqe",
        "AZG8lMBTDQb1",
        "NykZrVsvSgEE",
        "AgIcI4Rbdw0x",
        "4XHDzsamTbrA",
        "v3y0SF89V2BZ",
        "IfSOj56AWBc_"
      ],
      "toc_visible": true,
      "include_colab_link": true
    },
    "kernelspec": {
      "display_name": "Python 3",
      "language": "python",
      "name": "python3"
    },
    "language_info": {
      "codemirror_mode": {
        "name": "ipython",
        "version": 3
      },
      "file_extension": ".py",
      "mimetype": "text/x-python",
      "name": "python",
      "nbconvert_exporter": "python",
      "pygments_lexer": "ipython3",
      "version": "3.7.2"
    },
    "toc": {
      "base_numbering": 1,
      "nav_menu": {},
      "number_sections": true,
      "sideBar": true,
      "skip_h1_title": false,
      "title_cell": "Table of Contents",
      "title_sidebar": "Contents",
      "toc_cell": false,
      "toc_position": {},
      "toc_section_display": true,
      "toc_window_display": true
    }
  },
  "cells": [
    {
      "cell_type": "markdown",
      "metadata": {
        "id": "view-in-github",
        "colab_type": "text"
      },
      "source": [
        "<a href=\"https://colab.research.google.com/github/ChristianEngProd/HTML_Teste/blob/main/Primeiros_Passos_Christian_Python.ipynb\" target=\"_parent\"><img src=\"https://colab.research.google.com/assets/colab-badge.svg\" alt=\"Open In Colab\"/></a>"
      ]
    },
    {
      "cell_type": "markdown",
      "metadata": {
        "id": "peKfOMX4hnsB"
      },
      "source": [
        "# Agenda"
      ]
    },
    {
      "cell_type": "markdown",
      "metadata": {
        "id": "oASXPx0RhnsD"
      },
      "source": [
        "**Tópicos**:\n",
        "\n",
        "* Revisão de Python:\n",
        " - Variáveis\n",
        " - Operações Matemáticas\n",
        "\n",
        "* Exercício Prático (Hands on)\n",
        "\n",
        "* Carregamento dos dados\n",
        "\n",
        "* Visualizações"
      ]
    },
    {
      "cell_type": "markdown",
      "metadata": {
        "id": "ivoaXwLNhnsE"
      },
      "source": [
        "# Revisão de Python"
      ]
    },
    {
      "cell_type": "markdown",
      "metadata": {
        "id": "wwAg5f0EhnsE"
      },
      "source": [
        "## Variáveis"
      ]
    },
    {
      "cell_type": "markdown",
      "metadata": {
        "id": "VB4pGMudhnsF"
      },
      "source": [
        "Uma variável é um objeto que guarda um valor e armazena esse valor na memória do computador durante o tempo de desenvolvimento. Podemos inicializar uma variável por meio do comando de atribuição '='."
      ]
    },
    {
      "cell_type": "code",
      "metadata": {
        "id": "U68u-OcKhnsG"
      },
      "source": [
        "# podemos definir uma variável dando um nome\n",
        "ano = 2020"
      ],
      "execution_count": null,
      "outputs": []
    },
    {
      "cell_type": "code",
      "metadata": {
        "id": "xUUBbhWEhnsJ",
        "colab": {
          "base_uri": "https://localhost:8080/"
        },
        "outputId": "399a4c94-51eb-4c92-ad4f-005076d45857"
      },
      "source": [
        "# para imprimir a variável criada, utilizamos a função print\n",
        "print(ano)"
      ],
      "execution_count": null,
      "outputs": [
        {
          "output_type": "stream",
          "name": "stdout",
          "text": [
            "2020\n"
          ]
        }
      ]
    },
    {
      "cell_type": "code",
      "metadata": {
        "id": "EUOuKejphnsQ",
        "colab": {
          "base_uri": "https://localhost:8080/"
        },
        "outputId": "dacde29e-770c-4fa4-b26f-d3f0ea41fa5d"
      },
      "source": [
        "salario = 1500\n",
        "print(salario)\n",
        "salario = 1000\n",
        "print(salario)\n"
      ],
      "execution_count": null,
      "outputs": [
        {
          "output_type": "stream",
          "name": "stdout",
          "text": [
            "1500\n",
            "1000\n"
          ]
        }
      ]
    },
    {
      "cell_type": "markdown",
      "metadata": {
        "id": "77FuxEXnhnst"
      },
      "source": [
        "## Operações Matemáticas"
      ]
    },
    {
      "cell_type": "markdown",
      "metadata": {
        "id": "OaqTzBN5hnsu"
      },
      "source": [
        "Com Python podemos realizar operações matemáticas. Com o uso das variáveis isso fica ainda mais poderoso."
      ]
    },
    {
      "cell_type": "code",
      "metadata": {
        "id": "wVoC4PRPhns2"
      },
      "source": [
        "salario1 = 1500\n",
        "salario2 = 1000"
      ],
      "execution_count": null,
      "outputs": []
    },
    {
      "cell_type": "code",
      "source": [
        "print(salario1 + salario2) #soma\n",
        "print(salario1 - salario2) #subtração\n",
        "print(salario1 * salario2) #multiplicação\n",
        "print(salario1 / salario2) #divisão\n",
        "print(salario1 // salario2) #divisão inteira\n",
        "print(salario1 % salario2) #resto da divisão\n",
        "print(salario1 ** 2) #exponenciação"
      ],
      "metadata": {
        "colab": {
          "base_uri": "https://localhost:8080/"
        },
        "id": "gBhtGLtwZiOJ",
        "outputId": "2cda3c39-f81a-42ed-e708-bbbba4b11854"
      },
      "execution_count": null,
      "outputs": [
        {
          "output_type": "stream",
          "name": "stdout",
          "text": [
            "2500\n",
            "500\n",
            "1500000\n",
            "1.5\n",
            "1\n",
            "500\n",
            "2250000\n"
          ]
        }
      ]
    },
    {
      "cell_type": "markdown",
      "source": [
        "# Exercício Prático (Hands on)\n",
        "\n",
        "* 1. Abrir Google Colab: https://colab.research.google.com/\n",
        "* 2. Login na conta Google\n",
        "* 3. Arquivo --> Novo notebook"
      ],
      "metadata": {
        "id": "veLa06i-QGqe"
      }
    },
    {
      "cell_type": "markdown",
      "source": [
        "# Carregamento dos dados"
      ],
      "metadata": {
        "id": "AZG8lMBTDQb1"
      }
    },
    {
      "cell_type": "code",
      "source": [
        "#Biblioteca Pandas\n",
        "import pandas as pd"
      ],
      "metadata": {
        "id": "W5rABpCbEiIo"
      },
      "execution_count": null,
      "outputs": []
    },
    {
      "cell_type": "code",
      "source": [
        "#Carregando bases de dados de Jan22 a Mar22\n",
        "#Fonte: https://www.gov.br/anp/pt-br/centrais-de-conteudo/dados-abertos/serie-historica-de-precos-de-combustiveis\n",
        "\n",
        "etanol_202201 = pd.read_csv('https://github.com/marioandrededeus/semana_sala_aberta_DH/raw/main/precos-gasolina-etanol-2022-01.csv', sep = ';', decimal = ',', encoding = 'latin')\n",
        "etanol_202202 = pd.read_csv('https://github.com/marioandrededeus/semana_sala_aberta_DH/raw/main/precos-gasolina-etanol-2022-02.csv', sep = ';', decimal = ',', encoding = 'latin')\n",
        "etanol_202203 = pd.read_csv('https://github.com/marioandrededeus/semana_sala_aberta_DH/raw/main/dados-abertos-precos-2022-03-gasolina-etanol.csv', sep = ';', decimal = ',', encoding = 'latin')\n",
        "\n",
        "df = pd.concat([etanol_202201, etanol_202202, etanol_202203])\n",
        "df['Data da Coleta'] = pd.to_datetime(df['Data da Coleta'], dayfirst=True)\n",
        "df.head()"
      ],
      "metadata": {
        "colab": {
          "base_uri": "https://localhost:8080/",
          "height": 206
        },
        "id": "HNJGkkBZFJxs",
        "outputId": "50e1d09b-7f4e-4092-f898-4d41e8eaa23c"
      },
      "execution_count": null,
      "outputs": [
        {
          "output_type": "execute_result",
          "data": {
            "text/plain": [
              "  Regiao Estado   Municipio             Produto Data da Coleta  Valor de Venda\n",
              "0      N     AC  RIO BRANCO            GASOLINA     2022-01-03            6.99\n",
              "1      N     AC  RIO BRANCO              ETANOL     2022-01-03            5.99\n",
              "2      N     AC  RIO BRANCO  GASOLINA ADITIVADA     2022-01-03            7.05\n",
              "3      N     AC  RIO BRANCO            GASOLINA     2022-01-03            6.99\n",
              "4      N     AC  RIO BRANCO              ETANOL     2022-01-03            6.12"
            ],
            "text/html": [
              "\n",
              "  <div id=\"df-6c5685a3-e150-4cea-8f2c-f5a668e27363\">\n",
              "    <div class=\"colab-df-container\">\n",
              "      <div>\n",
              "<style scoped>\n",
              "    .dataframe tbody tr th:only-of-type {\n",
              "        vertical-align: middle;\n",
              "    }\n",
              "\n",
              "    .dataframe tbody tr th {\n",
              "        vertical-align: top;\n",
              "    }\n",
              "\n",
              "    .dataframe thead th {\n",
              "        text-align: right;\n",
              "    }\n",
              "</style>\n",
              "<table border=\"1\" class=\"dataframe\">\n",
              "  <thead>\n",
              "    <tr style=\"text-align: right;\">\n",
              "      <th></th>\n",
              "      <th>Regiao</th>\n",
              "      <th>Estado</th>\n",
              "      <th>Municipio</th>\n",
              "      <th>Produto</th>\n",
              "      <th>Data da Coleta</th>\n",
              "      <th>Valor de Venda</th>\n",
              "    </tr>\n",
              "  </thead>\n",
              "  <tbody>\n",
              "    <tr>\n",
              "      <th>0</th>\n",
              "      <td>N</td>\n",
              "      <td>AC</td>\n",
              "      <td>RIO BRANCO</td>\n",
              "      <td>GASOLINA</td>\n",
              "      <td>2022-01-03</td>\n",
              "      <td>6.99</td>\n",
              "    </tr>\n",
              "    <tr>\n",
              "      <th>1</th>\n",
              "      <td>N</td>\n",
              "      <td>AC</td>\n",
              "      <td>RIO BRANCO</td>\n",
              "      <td>ETANOL</td>\n",
              "      <td>2022-01-03</td>\n",
              "      <td>5.99</td>\n",
              "    </tr>\n",
              "    <tr>\n",
              "      <th>2</th>\n",
              "      <td>N</td>\n",
              "      <td>AC</td>\n",
              "      <td>RIO BRANCO</td>\n",
              "      <td>GASOLINA ADITIVADA</td>\n",
              "      <td>2022-01-03</td>\n",
              "      <td>7.05</td>\n",
              "    </tr>\n",
              "    <tr>\n",
              "      <th>3</th>\n",
              "      <td>N</td>\n",
              "      <td>AC</td>\n",
              "      <td>RIO BRANCO</td>\n",
              "      <td>GASOLINA</td>\n",
              "      <td>2022-01-03</td>\n",
              "      <td>6.99</td>\n",
              "    </tr>\n",
              "    <tr>\n",
              "      <th>4</th>\n",
              "      <td>N</td>\n",
              "      <td>AC</td>\n",
              "      <td>RIO BRANCO</td>\n",
              "      <td>ETANOL</td>\n",
              "      <td>2022-01-03</td>\n",
              "      <td>6.12</td>\n",
              "    </tr>\n",
              "  </tbody>\n",
              "</table>\n",
              "</div>\n",
              "      <button class=\"colab-df-convert\" onclick=\"convertToInteractive('df-6c5685a3-e150-4cea-8f2c-f5a668e27363')\"\n",
              "              title=\"Convert this dataframe to an interactive table.\"\n",
              "              style=\"display:none;\">\n",
              "        \n",
              "  <svg xmlns=\"http://www.w3.org/2000/svg\" height=\"24px\"viewBox=\"0 0 24 24\"\n",
              "       width=\"24px\">\n",
              "    <path d=\"M0 0h24v24H0V0z\" fill=\"none\"/>\n",
              "    <path d=\"M18.56 5.44l.94 2.06.94-2.06 2.06-.94-2.06-.94-.94-2.06-.94 2.06-2.06.94zm-11 1L8.5 8.5l.94-2.06 2.06-.94-2.06-.94L8.5 2.5l-.94 2.06-2.06.94zm10 10l.94 2.06.94-2.06 2.06-.94-2.06-.94-.94-2.06-.94 2.06-2.06.94z\"/><path d=\"M17.41 7.96l-1.37-1.37c-.4-.4-.92-.59-1.43-.59-.52 0-1.04.2-1.43.59L10.3 9.45l-7.72 7.72c-.78.78-.78 2.05 0 2.83L4 21.41c.39.39.9.59 1.41.59.51 0 1.02-.2 1.41-.59l7.78-7.78 2.81-2.81c.8-.78.8-2.07 0-2.86zM5.41 20L4 18.59l7.72-7.72 1.47 1.35L5.41 20z\"/>\n",
              "  </svg>\n",
              "      </button>\n",
              "      \n",
              "  <style>\n",
              "    .colab-df-container {\n",
              "      display:flex;\n",
              "      flex-wrap:wrap;\n",
              "      gap: 12px;\n",
              "    }\n",
              "\n",
              "    .colab-df-convert {\n",
              "      background-color: #E8F0FE;\n",
              "      border: none;\n",
              "      border-radius: 50%;\n",
              "      cursor: pointer;\n",
              "      display: none;\n",
              "      fill: #1967D2;\n",
              "      height: 32px;\n",
              "      padding: 0 0 0 0;\n",
              "      width: 32px;\n",
              "    }\n",
              "\n",
              "    .colab-df-convert:hover {\n",
              "      background-color: #E2EBFA;\n",
              "      box-shadow: 0px 1px 2px rgba(60, 64, 67, 0.3), 0px 1px 3px 1px rgba(60, 64, 67, 0.15);\n",
              "      fill: #174EA6;\n",
              "    }\n",
              "\n",
              "    [theme=dark] .colab-df-convert {\n",
              "      background-color: #3B4455;\n",
              "      fill: #D2E3FC;\n",
              "    }\n",
              "\n",
              "    [theme=dark] .colab-df-convert:hover {\n",
              "      background-color: #434B5C;\n",
              "      box-shadow: 0px 1px 3px 1px rgba(0, 0, 0, 0.15);\n",
              "      filter: drop-shadow(0px 1px 2px rgba(0, 0, 0, 0.3));\n",
              "      fill: #FFFFFF;\n",
              "    }\n",
              "  </style>\n",
              "\n",
              "      <script>\n",
              "        const buttonEl =\n",
              "          document.querySelector('#df-6c5685a3-e150-4cea-8f2c-f5a668e27363 button.colab-df-convert');\n",
              "        buttonEl.style.display =\n",
              "          google.colab.kernel.accessAllowed ? 'block' : 'none';\n",
              "\n",
              "        async function convertToInteractive(key) {\n",
              "          const element = document.querySelector('#df-6c5685a3-e150-4cea-8f2c-f5a668e27363');\n",
              "          const dataTable =\n",
              "            await google.colab.kernel.invokeFunction('convertToInteractive',\n",
              "                                                     [key], {});\n",
              "          if (!dataTable) return;\n",
              "\n",
              "          const docLinkHtml = 'Like what you see? Visit the ' +\n",
              "            '<a target=\"_blank\" href=https://colab.research.google.com/notebooks/data_table.ipynb>data table notebook</a>'\n",
              "            + ' to learn more about interactive tables.';\n",
              "          element.innerHTML = '';\n",
              "          dataTable['output_type'] = 'display_data';\n",
              "          await google.colab.output.renderOutput(dataTable, element);\n",
              "          const docLink = document.createElement('div');\n",
              "          docLink.innerHTML = docLinkHtml;\n",
              "          element.appendChild(docLink);\n",
              "        }\n",
              "      </script>\n",
              "    </div>\n",
              "  </div>\n",
              "  "
            ]
          },
          "metadata": {},
          "execution_count": 62
        }
      ]
    },
    {
      "cell_type": "markdown",
      "source": [
        "## Dimensões do dataframe (tabela)"
      ],
      "metadata": {
        "id": "NykZrVsvSgEE"
      }
    },
    {
      "cell_type": "code",
      "source": [
        "df.shape"
      ],
      "metadata": {
        "colab": {
          "base_uri": "https://localhost:8080/"
        },
        "id": "py72LY29SgQI",
        "outputId": "239fc029-75d0-41a0-e040-3f69d01ec3cb"
      },
      "execution_count": null,
      "outputs": [
        {
          "output_type": "execute_result",
          "data": {
            "text/plain": [
              "(165945, 6)"
            ]
          },
          "metadata": {},
          "execution_count": 63
        }
      ]
    },
    {
      "cell_type": "markdown",
      "source": [
        "# Visualizações"
      ],
      "metadata": {
        "id": "AgIcI4Rbdw0x"
      }
    },
    {
      "cell_type": "markdown",
      "source": [
        ""
      ],
      "metadata": {
        "id": "2MYP3xbadxyP"
      }
    },
    {
      "cell_type": "markdown",
      "source": [
        "## Preço por Estado"
      ],
      "metadata": {
        "id": "4XHDzsamTbrA"
      }
    },
    {
      "cell_type": "code",
      "source": [
        "df_estado = df.groupby('Estado')['Valor de Venda'].mean()\n",
        "df_estado"
      ],
      "metadata": {
        "colab": {
          "base_uri": "https://localhost:8080/"
        },
        "id": "ZtBXz9qpTCog",
        "outputId": "5c61b6d7-0cc2-4b6a-9d8b-90fa0c088087"
      },
      "execution_count": null,
      "outputs": [
        {
          "output_type": "execute_result",
          "data": {
            "text/plain": [
              "Estado\n",
              "AC    6.970001\n",
              "AL    6.314668\n",
              "AM    6.500300\n",
              "AP    5.999574\n",
              "BA    6.542584\n",
              "CE    6.506086\n",
              "DF    6.510057\n",
              "ES    6.609645\n",
              "GO    6.221585\n",
              "MA    6.533369\n",
              "MG    6.351903\n",
              "MS    6.211182\n",
              "MT    5.830462\n",
              "PA    6.919653\n",
              "PB    6.105868\n",
              "PE    6.216960\n",
              "PI    6.740605\n",
              "PR    6.105763\n",
              "RJ    6.923990\n",
              "RN    6.677700\n",
              "RO    6.829194\n",
              "RR    6.612073\n",
              "RS    6.616741\n",
              "SC    6.514957\n",
              "SE    6.311125\n",
              "SP    5.841157\n",
              "TO    6.639260\n",
              "Name: Valor de Venda, dtype: float64"
            ]
          },
          "metadata": {},
          "execution_count": 64
        }
      ]
    },
    {
      "cell_type": "code",
      "source": [
        "df_estado.plot.bar(figsize = (20,5));"
      ],
      "metadata": {
        "colab": {
          "base_uri": "https://localhost:8080/",
          "height": 340
        },
        "id": "oserrxuXTqjl",
        "outputId": "243a8156-2fa0-4540-8a75-03dd7d300705"
      },
      "execution_count": null,
      "outputs": [
        {
          "output_type": "display_data",
          "data": {
            "text/plain": [
              "<Figure size 1440x360 with 1 Axes>"
            ],
            "image/png": "[encoded data removed]"
          },
          "metadata": {
            "needs_background": "light"
          }
        }
      ]
    },
    {
      "cell_type": "markdown",
      "source": [
        "## Preço por Regiao"
      ],
      "metadata": {
        "id": "v3y0SF89V2BZ"
      }
    },
    {
      "cell_type": "code",
      "source": [
        "df_regiao = df.groupby('Regiao')['Valor de Venda'].mean()\n",
        "df_regiao"
      ],
      "metadata": {
        "colab": {
          "base_uri": "https://localhost:8080/"
        },
        "id": "NarVMNj4UM6i",
        "outputId": "5da86884-2551-4106-f80d-7bdd47ec9b98"
      },
      "execution_count": null,
      "outputs": [
        {
          "output_type": "execute_result",
          "data": {
            "text/plain": [
              "Regiao\n",
              "CO    6.133113\n",
              "N     6.754050\n",
              "NE    6.452099\n",
              "S     6.389886\n",
              "SE    6.117646\n",
              "Name: Valor de Venda, dtype: float64"
            ]
          },
          "metadata": {},
          "execution_count": 66
        }
      ]
    },
    {
      "cell_type": "code",
      "source": [
        "df_regiao.plot.bar(figsize = (10,5));"
      ],
      "metadata": {
        "colab": {
          "base_uri": "https://localhost:8080/",
          "height": 338
        },
        "id": "Sbnuar9aUbmx",
        "outputId": "ed360f30-5b4d-40a0-bdc1-84e6dc5bd42f"
      },
      "execution_count": null,
      "outputs": [
        {
          "output_type": "display_data",
          "data": {
            "text/plain": [
              "<Figure size 720x360 with 1 Axes>"
            ],
            "image/png": "[encoded data removed]"
          },
          "metadata": {
            "needs_background": "light"
          }
        }
      ]
    },
    {
      "cell_type": "markdown",
      "source": [
        "## Preço por Região - Linha do Tempo"
      ],
      "metadata": {
        "id": "IfSOj56AWBc_"
      }
    },
    {
      "cell_type": "code",
      "source": [
        "df_regiao_data = df.groupby(['Regiao','Data da Coleta'])['Valor de Venda'].mean().reset_index()\n",
        "df_regiao_data"
      ],
      "metadata": {
        "colab": {
          "base_uri": "https://localhost:8080/",
          "height": 423
        },
        "id": "eP2I4Kq-WAZ3",
        "outputId": "0c2e12a3-fa24-47d5-b63a-a36848a6c473"
      },
      "execution_count": null,
      "outputs": [
        {
          "output_type": "execute_result",
          "data": {
            "text/plain": [
              "    Regiao Data da Coleta  Valor de Venda\n",
              "0       CO     2022-01-03        6.100776\n",
              "1       CO     2022-01-04        6.148518\n",
              "2       CO     2022-01-05        6.029087\n",
              "3       CO     2022-01-06        5.999943\n",
              "4       CO     2022-01-10        6.075419\n",
              "..     ...            ...             ...\n",
              "292     SE     2022-03-25        6.445915\n",
              "293     SE     2022-03-28        6.438948\n",
              "294     SE     2022-03-29        6.481939\n",
              "295     SE     2022-03-30        6.386642\n",
              "296     SE     2022-03-31        6.328578\n",
              "\n",
              "[297 rows x 3 columns]"
            ],
            "text/html": [
              "\n",
              "  <div id=\"df-b56b426e-061a-46a4-9e78-b7810f3d9f27\">\n",
              "    <div class=\"colab-df-container\">\n",
              "      <div>\n",
              "<style scoped>\n",
              "    .dataframe tbody tr th:only-of-type {\n",
              "        vertical-align: middle;\n",
              "    }\n",
              "\n",
              "    .dataframe tbody tr th {\n",
              "        vertical-align: top;\n",
              "    }\n",
              "\n",
              "    .dataframe thead th {\n",
              "        text-align: right;\n",
              "    }\n",
              "</style>\n",
              "<table border=\"1\" class=\"dataframe\">\n",
              "  <thead>\n",
              "    <tr style=\"text-align: right;\">\n",
              "      <th></th>\n",
              "      <th>Regiao</th>\n",
              "      <th>Data da Coleta</th>\n",
              "      <th>Valor de Venda</th>\n",
              "    </tr>\n",
              "  </thead>\n",
              "  <tbody>\n",
              "    <tr>\n",
              "      <th>0</th>\n",
              "      <td>CO</td>\n",
              "      <td>2022-01-03</td>\n",
              "      <td>6.100776</td>\n",
              "    </tr>\n",
              "    <tr>\n",
              "      <th>1</th>\n",
              "      <td>CO</td>\n",
              "      <td>2022-01-04</td>\n",
              "      <td>6.148518</td>\n",
              "    </tr>\n",
              "    <tr>\n",
              "      <th>2</th>\n",
              "      <td>CO</td>\n",
              "      <td>2022-01-05</td>\n",
              "      <td>6.029087</td>\n",
              "    </tr>\n",
              "    <tr>\n",
              "      <th>3</th>\n",
              "      <td>CO</td>\n",
              "      <td>2022-01-06</td>\n",
              "      <td>5.999943</td>\n",
              "    </tr>\n",
              "    <tr>\n",
              "      <th>4</th>\n",
              "      <td>CO</td>\n",
              "      <td>2022-01-10</td>\n",
              "      <td>6.075419</td>\n",
              "    </tr>\n",
              "    <tr>\n",
              "      <th>...</th>\n",
              "      <td>...</td>\n",
              "      <td>...</td>\n",
              "      <td>...</td>\n",
              "    </tr>\n",
              "    <tr>\n",
              "      <th>292</th>\n",
              "      <td>SE</td>\n",
              "      <td>2022-03-25</td>\n",
              "      <td>6.445915</td>\n",
              "    </tr>\n",
              "    <tr>\n",
              "      <th>293</th>\n",
              "      <td>SE</td>\n",
              "      <td>2022-03-28</td>\n",
              "      <td>6.438948</td>\n",
              "    </tr>\n",
              "    <tr>\n",
              "      <th>294</th>\n",
              "      <td>SE</td>\n",
              "      <td>2022-03-29</td>\n",
              "      <td>6.481939</td>\n",
              "    </tr>\n",
              "    <tr>\n",
              "      <th>295</th>\n",
              "      <td>SE</td>\n",
              "      <td>2022-03-30</td>\n",
              "      <td>6.386642</td>\n",
              "    </tr>\n",
              "    <tr>\n",
              "      <th>296</th>\n",
              "      <td>SE</td>\n",
              "      <td>2022-03-31</td>\n",
              "      <td>6.328578</td>\n",
              "    </tr>\n",
              "  </tbody>\n",
              "</table>\n",
              "<p>297 rows × 3 columns</p>\n",
              "</div>\n",
              "      <button class=\"colab-df-convert\" onclick=\"convertToInteractive('df-b56b426e-061a-46a4-9e78-b7810f3d9f27')\"\n",
              "              title=\"Convert this dataframe to an interactive table.\"\n",
              "              style=\"display:none;\">\n",
              "        \n",
              "  <svg xmlns=\"http://www.w3.org/2000/svg\" height=\"24px\"viewBox=\"0 0 24 24\"\n",
              "       width=\"24px\">\n",
              "    <path d=\"M0 0h24v24H0V0z\" fill=\"none\"/>\n",
              "    <path d=\"M18.56 5.44l.94 2.06.94-2.06 2.06-.94-2.06-.94-.94-2.06-.94 2.06-2.06.94zm-11 1L8.5 8.5l.94-2.06 2.06-.94-2.06-.94L8.5 2.5l-.94 2.06-2.06.94zm10 10l.94 2.06.94-2.06 2.06-.94-2.06-.94-.94-2.06-.94 2.06-2.06.94z\"/><path d=\"M17.41 7.96l-1.37-1.37c-.4-.4-.92-.59-1.43-.59-.52 0-1.04.2-1.43.59L10.3 9.45l-7.72 7.72c-.78.78-.78 2.05 0 2.83L4 21.41c.39.39.9.59 1.41.59.51 0 1.02-.2 1.41-.59l7.78-7.78 2.81-2.81c.8-.78.8-2.07 0-2.86zM5.41 20L4 18.59l7.72-7.72 1.47 1.35L5.41 20z\"/>\n",
              "  </svg>\n",
              "      </button>\n",
              "      \n",
              "  <style>\n",
              "    .colab-df-container {\n",
              "      display:flex;\n",
              "      flex-wrap:wrap;\n",
              "      gap: 12px;\n",
              "    }\n",
              "\n",
              "    .colab-df-convert {\n",
              "      background-color: #E8F0FE;\n",
              "      border: none;\n",
              "      border-radius: 50%;\n",
              "      cursor: pointer;\n",
              "      display: none;\n",
              "      fill: #1967D2;\n",
              "      height: 32px;\n",
              "      padding: 0 0 0 0;\n",
              "      width: 32px;\n",
              "    }\n",
              "\n",
              "    .colab-df-convert:hover {\n",
              "      background-color: #E2EBFA;\n",
              "      box-shadow: 0px 1px 2px rgba(60, 64, 67, 0.3), 0px 1px 3px 1px rgba(60, 64, 67, 0.15);\n",
              "      fill: #174EA6;\n",
              "    }\n",
              "\n",
              "    [theme=dark] .colab-df-convert {\n",
              "      background-color: #3B4455;\n",
              "      fill: #D2E3FC;\n",
              "    }\n",
              "\n",
              "    [theme=dark] .colab-df-convert:hover {\n",
              "      background-color: #434B5C;\n",
              "      box-shadow: 0px 1px 3px 1px rgba(0, 0, 0, 0.15);\n",
              "      filter: drop-shadow(0px 1px 2px rgba(0, 0, 0, 0.3));\n",
              "      fill: #FFFFFF;\n",
              "    }\n",
              "  </style>\n",
              "\n",
              "      <script>\n",
              "        const buttonEl =\n",
              "          document.querySelector('#df-b56b426e-061a-46a4-9e78-b7810f3d9f27 button.colab-df-convert');\n",
              "        buttonEl.style.display =\n",
              "          google.colab.kernel.accessAllowed ? 'block' : 'none';\n",
              "\n",
              "        async function convertToInteractive(key) {\n",
              "          const element = document.querySelector('#df-b56b426e-061a-46a4-9e78-b7810f3d9f27');\n",
              "          const dataTable =\n",
              "            await google.colab.kernel.invokeFunction('convertToInteractive',\n",
              "                                                     [key], {});\n",
              "          if (!dataTable) return;\n",
              "\n",
              "          const docLinkHtml = 'Like what you see? Visit the ' +\n",
              "            '<a target=\"_blank\" href=https://colab.research.google.com/notebooks/data_table.ipynb>data table notebook</a>'\n",
              "            + ' to learn more about interactive tables.';\n",
              "          element.innerHTML = '';\n",
              "          dataTable['output_type'] = 'display_data';\n",
              "          await google.colab.output.renderOutput(dataTable, element);\n",
              "          const docLink = document.createElement('div');\n",
              "          docLink.innerHTML = docLinkHtml;\n",
              "          element.appendChild(docLink);\n",
              "        }\n",
              "      </script>\n",
              "    </div>\n",
              "  </div>\n",
              "  "
            ]
          },
          "metadata": {},
          "execution_count": 68
        }
      ]
    },
    {
      "cell_type": "code",
      "source": [
        "import seaborn as sns\n",
        "import matplotlib.pyplot as plt\n",
        "\n",
        "plt.figure(figsize = (20,5))\n",
        "sns.lineplot(data = df_regiao_data, \n",
        "             x = 'Data da Coleta', \n",
        "             y = 'Valor de Venda', \n",
        "             hue = 'Regiao');\n"
      ],
      "metadata": {
        "colab": {
          "base_uri": "https://localhost:8080/",
          "height": 334
        },
        "id": "exjlD1lIWY00",
        "outputId": "f15d712d-d135-4bd8-90d8-57d2fd380fc8"
      },
      "execution_count": null,
      "outputs": [
        {
          "output_type": "display_data",
          "data": {
            "text/plain": [
              "<Figure size 1440x360 with 1 Axes>"
            ],
            "image/png": "[encoded data removed]"
          },
          "metadata": {
            "needs_background": "light"
          }
        }
      ]
    },
    {
      "cell_type": "code",
      "source": [
        ""
      ],
      "metadata": {
        "id": "dh_UGDxsWvHC"
      },
      "execution_count": null,
      "outputs": []
    }
  ]
}